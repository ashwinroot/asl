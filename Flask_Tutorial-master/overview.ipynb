{
 "cells": [
  {
   "cell_type": "markdown",
   "metadata": {},
   "source": [
    "# Flask Tutorial (brief)"
   ]
  },
  {
   "cell_type": "markdown",
   "metadata": {},
   "source": [
    "## File Hierarchy"
   ]
  },
  {
   "cell_type": "markdown",
   "metadata": {},
   "source": [
    "```\n",
    "└── app_name\n",
    "    ├── app_name                \n",
    "    |   ├── static\n",
    "    |   |   ├── css\n",
    "    |   |   |   ├── styles.css \n",
    "    |   |   ├── js                   \n",
    "    |   |   |   ├── lib\n",
    "    |   |   |   |   ├── d3.min.js\n",
    "    |   |   |   |   ├── jquery.min.js   \n",
    "    |   |   |   ├── script.js\n",
    "    |   ├── templates\n",
    "    |   |   ├── index.html\n",
    "    |   ├── __init__.py               # Where app is instantiated and config loaded\n",
    "    |   ├── views.py                  # All routing - main interface for JS ajax calls\n",
    "    ├── requirements.txt\n",
    "    ├── config.py                     # Config params loaded in __init__.py\n",
    "    ├── run.py                        # Launches app\n",
    "    ├── Procfile                      # For gunicorn / Heroku hosting\n",
    "```"
   ]
  },
  {
   "cell_type": "markdown",
   "metadata": {},
   "source": [
    "## run.py"
   ]
  },
  {
   "cell_type": "code",
   "execution_count": null,
   "metadata": {
    "collapsed": true
   },
   "outputs": [],
   "source": [
    "from app_name import app\n",
    "\n",
    "if __name__ == '__main__':\n",
    "    app.run(debug=True, port=5000)"
   ]
  },
  {
   "cell_type": "markdown",
   "metadata": {},
   "source": [
    "## app_name/__init__.py"
   ]
  },
  {
   "cell_type": "code",
   "execution_count": null,
   "metadata": {
    "collapsed": true
   },
   "outputs": [],
   "source": [
    "from flask import Flask\n",
    "\n",
    "app = Flask(__name__)\n",
    "app.config.from_object(\"config\")  # Reads config.py contents and stores them into app.config\n",
    "\n",
    "from app_name import views"
   ]
  },
  {
   "cell_type": "markdown",
   "metadata": {},
   "source": [
    "## app_name/views.py"
   ]
  },
  {
   "cell_type": "code",
   "execution_count": null,
   "metadata": {},
   "outputs": [],
   "source": [
    "from app_name import app\n",
    "from flask import render_template\n",
    "\n",
    "@app.route('/')\n",
    "@app.route('/index')   # Can stack multiple decorator routes - here, / and /index will both launch index.html\n",
    "def index():           # Name this function whatever you want. Ajax calls refer to route name, not function name\n",
    "    return render_template(\"index.html\")"
   ]
  },
  {
   "cell_type": "markdown",
   "metadata": {},
   "source": [
    "## app_name/templates/index.html"
   ]
  },
  {
   "cell_type": "markdown",
   "metadata": {},
   "source": [
    "```html\n",
    "<html>\n",
    "\n",
    "  <head>\n",
    "    <title> Test </title>\n",
    "    <!-- CSS -->\n",
    "    <link rel=\"stylesheet\" href=\"/static/css/style.css\">\n",
    "\n",
    "    <!-- JS -->\n",
    "    <script src=\"/static/js/lib/jquery-3.2.1.min.js\"></script>\n",
    "    <script src=\"/static/js/lib/d3.min.js\"></script>\n",
    "    <script src=\"/static/js/script.js\"></script>\n",
    "\n",
    "  </head>\n",
    "\n",
    "  <body></body>\n",
    "\n",
    "</html>\n",
    "```"
   ]
  },
  {
   "cell_type": "markdown",
   "metadata": {},
   "source": [
    "## JS and CSS\n",
    "\n",
    "These files are written as per usual."
   ]
  },
  {
   "cell_type": "markdown",
   "metadata": {},
   "source": [
    "## requirements.txt\n",
    "\n",
    "Contains libraries/packages and their respective versions, as per usual.\n",
    "See virtualenv section below for instructions on creating requirements.txt. Note, be sure to create requirements.txt from within virtualenv, otherwise all modules on your system will be pushed into the file."
   ]
  },
  {
   "cell_type": "markdown",
   "metadata": {},
   "source": [
    "## virtualenv\n",
    "If using virtualenv...\n",
    "\n",
    "### 1. Create virtual environment folder\n",
    "```bash\n",
    "$ virtualenv <venv-folder-name>\n",
    "```\n",
    "\n",
    "### 2. Activate venv\n",
    "```bash\n",
    "$ source <venv-folder-name>/bin/activate\n",
    "```\n",
    "\n",
    "### 2.a. Deactivate virtualenv\n",
    "```bash\n",
    "<venv-folder-name>$ deactivate\n",
    "```\n",
    "\n",
    "### 3. Check virtualenv libraries\n",
    "```bash\n",
    "<venv-folder-name>$ pip freeze\n",
    "```\n",
    "\n",
    "Result Example\n",
    "```\n",
    "PyYAML==3.12\n",
    "requests==2.13.0\n",
    "scikit-learn==0.18.1\n",
    "scipy==0.19.0\n",
    "six==1.10.0\n",
    "SQLAlchemy==1.1.9\n",
    "virtualenv==15.1.0\n",
    "```\n",
    "\n",
    "### 4. Loading packages from pre-existing requirements.txt\n",
    "```bash\n",
    "<venv-folder-name>$ pip install -r requirements.txt\n",
    "```\n",
    "\n",
    "### 5. Loading new packages into enrivonment\n",
    "```bash\n",
    "<venv-folder-name>$ pip install <package>\n",
    "```\n",
    "\n",
    "### 6. Save current virtualenv packages into requirements.txt\n",
    "```bash\n",
    "<venv-folder-name>$ pip freeze > requirements.txt\n",
    "```"
   ]
  },
  {
   "cell_type": "markdown",
   "metadata": {},
   "source": [
    "## Procfile\n",
    "Need to pip install gunicorn."
   ]
  },
  {
   "cell_type": "markdown",
   "metadata": {},
   "source": [
    "```\n",
    "web: gunicorn run:app --log-file=-\n",
    "```"
   ]
  },
  {
   "cell_type": "markdown",
   "metadata": {},
   "source": [
    "**run** is the name of the file that launches the app; e.g., **run.py**\n",
    "\n",
    "**app** is the name of your instantiated Flask object from `app = Flask(__name__)`\n",
    "\n",
    "**--log-file=-** is optional."
   ]
  },
  {
   "cell_type": "markdown",
   "metadata": {},
   "source": [
    "# Hosting to Heroku"
   ]
  },
  {
   "cell_type": "markdown",
   "metadata": {},
   "source": [
    "## 1. Have Heroku account setup\n",
    "```bash\n",
    "$ heroku login\n",
    "```\n",
    "\n",
    "- Login with Heroku email and password\n",
    "\n",
    "## 2. Create Heroku app\n",
    "```bash\n",
    "$ heroku create <heroku_app_name>\n",
    "```\n",
    "- If no app name argument provided, random alphanumeric name will be generated.\n",
    "\n",
    "## 3. Add, commit, and push changes to git\n",
    "```bash\n",
    "$ git add .\n",
    "$ git commit -m \"commit note\"\n",
    "$ git push -u origin master\n",
    "```\n",
    "\n",
    "## 4. Push changes to Heroku master\n",
    "```bash\n",
    "$ git push heroku master\n",
    "```"
   ]
  }
 ],
 "metadata": {
  "kernelspec": {
   "display_name": "Python 2",
   "language": "python",
   "name": "python2"
  },
  "language_info": {
   "codemirror_mode": {
    "name": "ipython",
    "version": 2
   },
   "file_extension": ".py",
   "mimetype": "text/x-python",
   "name": "python",
   "nbconvert_exporter": "python",
   "pygments_lexer": "ipython2",
   "version": "2.7.14"
  }
 },
 "nbformat": 4,
 "nbformat_minor": 2
}
