{
 "cells": [
  {
   "cell_type": "markdown",
   "metadata": {},
   "source": [
    "# AJAX Flask Tutorial (brief)"
   ]
  },
  {
   "cell_type": "markdown",
   "metadata": {},
   "source": [
    "# AJAX on the front end\n",
    "- The first A in AJAX is asynchronous. That means that you'll need to structure your code in the correct manner. Similar to using d3.csv(), you need to put the function calls within the block to avoid issues surrounding asynchronous coding.\n",
    "\n",
    "\n",
    "1. You usually want to send some flags / data to the backend for help in processing your request. Put these into a dictionary (`data_to_backend`).\n",
    "2. When you send the dictionary in the ajax call, you need to stringify it: `JSON.stringify(data_to_backend)`\n",
    "3. The data returned will be in the form of JSON - a javascript object. So access the information just like a dictionary.\n",
    "\n",
    "## app_name/static/js/script.js"
   ]
  },
  {
   "cell_type": "markdown",
   "metadata": {},
   "source": [
    "```javascript\n",
    "\n",
    "// main function - do rest of what you need to do here.\n",
    "function main(data) {\n",
    "    // Stuff here\n",
    "}\n",
    "\n",
    "// Initialize the data from the backend\n",
    "function initializeData() {\n",
    "    var data_to_backend = {\n",
    "        \"name\" : \"Test\",\n",
    "        \"index\" : 5,\n",
    "    }\n",
    "\n",
    "    $.ajax({\n",
    "        url             :   \"/get_backend_data\",\n",
    "        method          :   'POST',\n",
    "        contentType     :   'application/json',\n",
    "        dataType        :   'json',\n",
    "        data            :   JSON.stringify(data_to_backend),\n",
    "        success : function(data_from_backend) {\n",
    "            var processed_data = clf_result[\"data\"];\n",
    "            main(processed_data);\n",
    "        }\n",
    "    });\n",
    "}\n",
    "\n",
    "// Main Function\n",
    "$(function() {\n",
    "    initializeData();\n",
    "});\n",
    "```"
   ]
  },
  {
   "cell_type": "markdown",
   "metadata": {},
   "source": [
    "# AJAX On the backend\n",
    "1. The data from the frontend is retrieved by calling a request on the json: `request.json[<key_in_your_data_to_backend_object>]`\n",
    "2. Do whatever processing, loading, etc. stuff in Python you'd want to do, then send some result back to the front end. Again, I use a dictionary (`data_to_front_end`), and you must jsonify it on the return: `jsonify(data_to_front_end)` \n",
    "\n",
    "## app_name/views.py"
   ]
  },
  {
   "cell_type": "code",
   "execution_count": null,
   "metadata": {},
   "outputs": [],
   "source": [
    "from app_name import app\n",
    "from flask import render_template\n",
    "\n",
    "def process_the_data(name, index):\n",
    "    \"\"\"\n",
    "    Do whatever data processing here\n",
    "    \"\"\"\n",
    "    pass\n",
    "\n",
    "@app.route('/')\n",
    "@app.route('/index')   # Can stack multiple decorator routes - here, / and /index will both launch index.html\n",
    "def index():           # Name this function whatever you want. Ajax calls refer to route name, not function name\n",
    "    return render_template(\"index.html\")\n",
    "\n",
    "@app.route('/get_backend_data', methods=['GET', 'POST'])\n",
    "def get_backend_data():\n",
    "    \"\"\"\n",
    "    var data_to_backend = {\n",
    "        \"name\" : \"Test\",\n",
    "        \"index\" : 5,\n",
    "    }\n",
    "    \"\"\"\n",
    "    name = request.json['name']\n",
    "    index = request.json['index']\n",
    "\n",
    "    processed_data = process_the_data(name, index)\n",
    "    data_to_front_end = {\"data\" : processed_data}\n",
    "    return jsonify(data_to_front_end)"
   ]
  }
 ],
 "metadata": {
  "kernelspec": {
   "display_name": "Python 2",
   "language": "python",
   "name": "python2"
  },
  "language_info": {
   "codemirror_mode": {
    "name": "ipython",
    "version": 2
   },
   "file_extension": ".py",
   "mimetype": "text/x-python",
   "name": "python",
   "nbconvert_exporter": "python",
   "pygments_lexer": "ipython2",
   "version": "2.7.14"
  }
 },
 "nbformat": 4,
 "nbformat_minor": 2
}
